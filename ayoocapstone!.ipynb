{
  "nbformat": 4,
  "nbformat_minor": 0,
  "metadata": {
    "colab": {
      "provenance": []
    },
    "kernelspec": {
      "name": "python3",
      "display_name": "Python 3"
    },
    "language_info": {
      "name": "python"
    }
  },
  "cells": [
    {
      "cell_type": "code",
      "execution_count": 7,
      "metadata": {
        "id": "uk65FjmMtBIu"
      },
      "outputs": [],
      "source": [
        "!pip install transformers scikit-learn --quiet\n",
        "\n",
        "import pandas as pd\n",
        "from sklearn.preprocessing import StandardScaler\n",
        "from sklearn.cluster import KMeans\n",
        "from transformers import pipeline"
      ]
    },
    {
      "cell_type": "code",
      "source": [
        "df = pd.read_csv(\"kelayakan-pendidikan-indonesia.csv\")\n",
        "\n",
        "print(df.head())\n",
        "print(df.columns)"
      ],
      "metadata": {
        "colab": {
          "base_uri": "https://localhost:8080/"
        },
        "id": "IROikO2tu38c",
        "outputId": "72dd17fd-79fc-4dba-ce2a-01fa3e6b7339"
      },
      "execution_count": 8,
      "outputs": [
        {
          "output_type": "stream",
          "name": "stdout",
          "text": [
            "                Provinsi  Sekolah    Siswa  Mengulang  Putus Sekolah  \\\n",
            "0   Prov. D.K.I. Jakarta     2224   756455       1202            869   \n",
            "1       Prov. Jawa Barat    19553  4487262       4778           5675   \n",
            "2      Prov. Jawa Tengah    18618  2595050       6909           2399   \n",
            "3  Prov. D.I. Yogyakarta     1846   270610        357             75   \n",
            "4       Prov. Jawa Timur    18980  2530849       4694           3327   \n",
            "\n",
            "   Kepala Sekolah dan Guru(<S1)  Kepala Sekolah dan Guru(≥ S1)  \\\n",
            "0                          1089                          38305   \n",
            "1                          5007                         209252   \n",
            "2                          2337                         167535   \n",
            "3                           326                          19771   \n",
            "4                          2950                         180465   \n",
            "\n",
            "   Tenaga Kependidikan(SM)  Tenaga Kependidikan(>SM)  Rombongan Belajar  \\\n",
            "0                     6967                      1569              27830   \n",
            "1                    27487                      3353             169704   \n",
            "2                    21325                      2473             127266   \n",
            "3                     4536                       866              13719   \n",
            "4                    21116                      3818             134724   \n",
            "\n",
            "   Ruang kelas(baik)  Ruang kelas(rusak ringan)  Ruang kelas(rusak sedang)  \\\n",
            "0              23320                       3886                        717   \n",
            "1              59592                      46006                      34432   \n",
            "2              51050                      42356                      26321   \n",
            "3               8217                       3878                       1827   \n",
            "4              58679                      42896                      24218   \n",
            "\n",
            "   Ruang kelas(rusak berat)  Unnamed: 14  \n",
            "0                       345          NaN  \n",
            "1                     14397          NaN  \n",
            "2                     13457          NaN  \n",
            "3                       548          NaN  \n",
            "4                     14389          NaN  \n",
            "Index(['Provinsi', 'Sekolah', 'Siswa', 'Mengulang', 'Putus Sekolah',\n",
            "       'Kepala Sekolah dan Guru(<S1)', 'Kepala Sekolah dan Guru(≥ S1)',\n",
            "       'Tenaga Kependidikan(SM)', 'Tenaga Kependidikan(>SM)',\n",
            "       'Rombongan Belajar', 'Ruang kelas(baik)', 'Ruang kelas(rusak ringan)',\n",
            "       'Ruang kelas(rusak sedang)', 'Ruang kelas(rusak berat)', 'Unnamed: 14'],\n",
            "      dtype='object')\n"
          ]
        }
      ]
    },
    {
      "cell_type": "code",
      "source": [
        "df[\"Siswa_per_Sekolah\"] = df[\"Siswa\"] / df[\"Sekolah\"]\n",
        "df[\"Persen_KepsekdanGuru_S1\"] = (\n",
        "    df[\"Kepala Sekolah dan Guru(≥ S1)\"] /\n",
        "    (df[\"Kepala Sekolah dan Guru(≥ S1)\"] + df[\"Kepala Sekolah dan Guru(<S1)\"])\n",
        ") * 100\n",
        "df[\"Persen_Putus_Sekolah\"] = df[\"Putus Sekolah\"] / df[\"Siswa\"] * 100\n",
        "df[\"Persen_Mengulang\"] = df[\"Mengulang\"] / df[\"Siswa\"] * 100"
      ],
      "metadata": {
        "id": "kYiYSGrou5rR"
      },
      "execution_count": 9,
      "outputs": []
    },
    {
      "cell_type": "code",
      "source": [
        "features = [\"Siswa_per_Sekolah\", \"Persen_KepsekdanGuru_S1\", \"Persen_Putus_Sekolah\", \"Persen_Mengulang\"]\n",
        "X = df[features].fillna(df[features].median())\n",
        "scaler = StandardScaler()\n",
        "X_scaled = scaler.fit_transform(X)\n",
        "\n",
        "kmeans = KMeans(n_clusters=3, random_state=42, n_init=10)\n",
        "df[\"Cluster\"] = kmeans.fit_predict(X_scaled)\n",
        "\n",
        "# Label cluster sesuai kualitas\n",
        "cluster_means = df.groupby(\"Cluster\")[features].mean()\n",
        "print(cluster_means)"
      ],
      "metadata": {
        "colab": {
          "base_uri": "https://localhost:8080/"
        },
        "id": "o8LAR3E1vKkD",
        "outputId": "4382714f-00b3-48f5-8005-478d8dc04118"
      },
      "execution_count": 10,
      "outputs": [
        {
          "output_type": "stream",
          "name": "stdout",
          "text": [
            "         Siswa_per_Sekolah  Persen_KepsekdanGuru_S1  Persen_Putus_Sekolah  \\\n",
            "Cluster                                                                     \n",
            "0               119.111166                92.392257              0.437270   \n",
            "1               172.373096                97.139123              0.168657   \n",
            "2               208.728018                81.910940              0.806911   \n",
            "\n",
            "         Persen_Mengulang  \n",
            "Cluster                    \n",
            "0                1.305849  \n",
            "1                0.406995  \n",
            "2                3.573621  \n"
          ]
        }
      ]
    },
    {
      "cell_type": "code",
      "source": [
        "summary_input = []\n",
        "for c in df[\"Cluster\"].unique():\n",
        "    provs = df[df[\"Cluster\"]==c][\"Provinsi\"].tolist()\n",
        "    summary_input.append(f\"Cluster {c}: {', '.join(provs)}\")\n",
        "\n",
        "text_input = \"Hasil klasifikasi pendidikan SD Indonesia:\\n\" + \"\\n\".join(summary_input)"
      ],
      "metadata": {
        "id": "PMDlSO6IvNmx"
      },
      "execution_count": 11,
      "outputs": []
    },
    {
      "cell_type": "code",
      "source": [
        "with open(\"input_granite.txt\",\"w\") as f:\n",
        "    f.write(text_input)\n",
        "\n",
        "print(\"File siap dipakai di LM Studio: input_granite.txt\")"
      ],
      "metadata": {
        "colab": {
          "base_uri": "https://localhost:8080/"
        },
        "id": "m2demlQzQtW_",
        "outputId": "317c366c-07d2-4be0-e79e-afd149328dc2"
      },
      "execution_count": 12,
      "outputs": [
        {
          "output_type": "stream",
          "name": "stdout",
          "text": [
            "File siap dipakai di LM Studio: input_granite.txt\n"
          ]
        }
      ]
    }
  ]
}